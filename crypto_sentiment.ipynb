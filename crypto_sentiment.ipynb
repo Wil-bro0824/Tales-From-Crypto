{
 "cells": [
  {
   "cell_type": "markdown",
   "metadata": {},
   "source": [
    "# Unit 12 - Tales from the Crypto\n",
    "\n",
    "---\n"
   ]
  },
  {
   "cell_type": "markdown",
   "metadata": {},
   "source": [
    "## 1. Sentiment Analysis\n",
    "\n",
    "Use the [newsapi](https://newsapi.org/) to pull the latest news articles for Bitcoin and Ethereum and create a DataFrame of sentiment scores for each coin.\n",
    "\n",
    "Use descriptive statistics to answer the following questions:\n",
    "1. Which coin had the highest mean positive score?\n",
    "2. Which coin had the highest negative score?\n",
    "3. Which coin had the highest positive score?"
   ]
  },
  {
   "cell_type": "code",
   "execution_count": 1,
   "metadata": {},
   "outputs": [
    {
     "name": "stderr",
     "output_type": "stream",
     "text": [
      "[nltk_data] Downloading package vader_lexicon to\n",
      "[nltk_data]     C:\\Users\\wilbr\\AppData\\Roaming\\nltk_data...\n",
      "[nltk_data]   Package vader_lexicon is already up-to-date!\n"
     ]
    }
   ],
   "source": [
    "# Initial imports\n",
    "import os\n",
    "import pandas as pd\n",
    "from dotenv import load_dotenv\n",
    "import nltk as nltk\n",
    "nltk.download('vader_lexicon')\n",
    "from nltk.sentiment.vader import SentimentIntensityAnalyzer\n",
    "analyzer = SentimentIntensityAnalyzer()\n",
    "from newsapi import NewsApiClient\n",
    "\n",
    "%matplotlib inline"
   ]
  },
  {
   "cell_type": "code",
   "execution_count": 2,
   "metadata": {},
   "outputs": [],
   "source": [
    "# Read your api key environment variable\n",
    "load_dotenv()\n",
    "api_key = os.getenv('NEWS_API')"
   ]
  },
  {
   "cell_type": "code",
   "execution_count": 3,
   "metadata": {},
   "outputs": [],
   "source": [
    "# Create a newsapi client\n",
    "newsapi = NewsApiClient(api_key=api_key)"
   ]
  },
  {
   "cell_type": "code",
   "execution_count": 4,
   "metadata": {},
   "outputs": [
    {
     "data": {
      "text/plain": [
       "dict_keys(['status', 'totalResults', 'articles'])"
      ]
     },
     "execution_count": 4,
     "metadata": {},
     "output_type": "execute_result"
    }
   ],
   "source": [
    "# Fetch the Bitcoin news articles\n",
    "bitcoin_headlines = newsapi.get_everything(q='bitcoin',language=\"en\")\n",
    "bitcoin_headlines.keys()"
   ]
  },
  {
   "cell_type": "code",
   "execution_count": 5,
   "metadata": {},
   "outputs": [
    {
     "data": {
      "text/plain": [
       "dict_keys(['status', 'totalResults', 'articles'])"
      ]
     },
     "execution_count": 5,
     "metadata": {},
     "output_type": "execute_result"
    }
   ],
   "source": [
    "# Fetch the Ethereum news articles\n",
    "ethereum_headlines = newsapi.get_everything(\n",
    "    q='Ethereum',\n",
    "    language='en'\n",
    ")\n",
    "ethereum_headlines.keys()"
   ]
  },
  {
   "cell_type": "code",
   "execution_count": 6,
   "metadata": {},
   "outputs": [
    {
     "name": "stdout",
     "output_type": "stream",
     "text": [
      "The Total articles about Bitcoin: 8022\n",
      "The Total articles about Ethereum: 2368\n"
     ]
    }
   ],
   "source": [
    "print(f\"The Total articles about Bitcoin: {bitcoin_headlines['totalResults']}\")\n",
    "print(f\"The Total articles about Ethereum: {ethereum_headlines['totalResults']}\")"
   ]
  },
  {
   "cell_type": "code",
   "execution_count": 7,
   "metadata": {},
   "outputs": [
    {
     "data": {
      "text/html": [
       "<div>\n",
       "<style scoped>\n",
       "    .dataframe tbody tr th:only-of-type {\n",
       "        vertical-align: middle;\n",
       "    }\n",
       "\n",
       "    .dataframe tbody tr th {\n",
       "        vertical-align: top;\n",
       "    }\n",
       "\n",
       "    .dataframe thead th {\n",
       "        text-align: right;\n",
       "    }\n",
       "</style>\n",
       "<table border=\"1\" class=\"dataframe\">\n",
       "  <thead>\n",
       "    <tr style=\"text-align: right;\">\n",
       "      <th></th>\n",
       "      <th>Date</th>\n",
       "      <th>Title</th>\n",
       "      <th>Text</th>\n",
       "      <th>Compound</th>\n",
       "      <th>Positive</th>\n",
       "      <th>Neutral</th>\n",
       "      <th>Neutral</th>\n",
       "      <th>Negative</th>\n",
       "    </tr>\n",
       "  </thead>\n",
       "  <tbody>\n",
       "    <tr>\n",
       "      <th>0</th>\n",
       "      <td>2021-07-19T11:00:00Z</td>\n",
       "      <td>Why Not Use Self-Driving Cars as Supercomputers?</td>\n",
       "      <td>Like Dogecoin devotees, the mayor of Reno, and...</td>\n",
       "      <td>0.6908</td>\n",
       "      <td>0.178</td>\n",
       "      <td>0.822</td>\n",
       "      <td>0.822</td>\n",
       "      <td>0.000</td>\n",
       "    </tr>\n",
       "    <tr>\n",
       "      <th>1</th>\n",
       "      <td>2021-07-05T19:45:10Z</td>\n",
       "      <td>Kaseya ransomware attackers demand $70 million...</td>\n",
       "      <td>Filed under:\\r\\nThe supply chain attack has re...</td>\n",
       "      <td>-0.5719</td>\n",
       "      <td>0.111</td>\n",
       "      <td>0.705</td>\n",
       "      <td>0.705</td>\n",
       "      <td>0.184</td>\n",
       "    </tr>\n",
       "    <tr>\n",
       "      <th>2</th>\n",
       "      <td>2021-07-05T12:14:34Z</td>\n",
       "      <td>Gang behind huge cyber-attack demands $70m in ...</td>\n",
       "      <td>image copyrightGetty Images\\r\\nThe gang behind...</td>\n",
       "      <td>-0.6124</td>\n",
       "      <td>0.000</td>\n",
       "      <td>0.857</td>\n",
       "      <td>0.857</td>\n",
       "      <td>0.143</td>\n",
       "    </tr>\n",
       "    <tr>\n",
       "      <th>3</th>\n",
       "      <td>2021-07-14T19:09:01Z</td>\n",
       "      <td>Crypto startup Phantom banks funding from Andr...</td>\n",
       "      <td>While retail investors grew more comfortable b...</td>\n",
       "      <td>0.7264</td>\n",
       "      <td>0.164</td>\n",
       "      <td>0.836</td>\n",
       "      <td>0.836</td>\n",
       "      <td>0.000</td>\n",
       "    </tr>\n",
       "    <tr>\n",
       "      <th>4</th>\n",
       "      <td>2021-07-21T22:00:14Z</td>\n",
       "      <td>Michael Arrington’s next act</td>\n",
       "      <td>As longtime TechCrunch readers know well, Mich...</td>\n",
       "      <td>0.4939</td>\n",
       "      <td>0.127</td>\n",
       "      <td>0.873</td>\n",
       "      <td>0.873</td>\n",
       "      <td>0.000</td>\n",
       "    </tr>\n",
       "  </tbody>\n",
       "</table>\n",
       "</div>"
      ],
      "text/plain": [
       "                   Date                                              Title  \\\n",
       "0  2021-07-19T11:00:00Z   Why Not Use Self-Driving Cars as Supercomputers?   \n",
       "1  2021-07-05T19:45:10Z  Kaseya ransomware attackers demand $70 million...   \n",
       "2  2021-07-05T12:14:34Z  Gang behind huge cyber-attack demands $70m in ...   \n",
       "3  2021-07-14T19:09:01Z  Crypto startup Phantom banks funding from Andr...   \n",
       "4  2021-07-21T22:00:14Z                       Michael Arrington’s next act   \n",
       "\n",
       "                                                Text  Compound  Positive  \\\n",
       "0  Like Dogecoin devotees, the mayor of Reno, and...    0.6908     0.178   \n",
       "1  Filed under:\\r\\nThe supply chain attack has re...   -0.5719     0.111   \n",
       "2  image copyrightGetty Images\\r\\nThe gang behind...   -0.6124     0.000   \n",
       "3  While retail investors grew more comfortable b...    0.7264     0.164   \n",
       "4  As longtime TechCrunch readers know well, Mich...    0.4939     0.127   \n",
       "\n",
       "   Neutral  Neutral  Negative  \n",
       "0    0.822    0.822     0.000  \n",
       "1    0.705    0.705     0.184  \n",
       "2    0.857    0.857     0.143  \n",
       "3    0.836    0.836     0.000  \n",
       "4    0.873    0.873     0.000  "
      ]
     },
     "execution_count": 7,
     "metadata": {},
     "output_type": "execute_result"
    }
   ],
   "source": [
    "# Create the Bitcoin sentiment scores DataFrame\n",
    "bitcoin_sentiments = []\n",
    "for news in bitcoin_headlines['articles']:\n",
    "    try:\n",
    "        text = news['content']\n",
    "        date = news['publishedAt']\n",
    "        title= news['title']\n",
    "        sentiment = analyzer.polarity_scores(text)\n",
    "        compound = sentiment['compound']\n",
    "        positive = sentiment['pos']\n",
    "        neutral = sentiment['neu']\n",
    "        negative = sentiment['neg']\n",
    "        bitcoin_sentiments.append({\n",
    "            'Title': title,\n",
    "            'Text': text,\n",
    "            'Date': date,\n",
    "            'Compound': compound,\n",
    "            'Positive': positive,\n",
    "            'Neutral': neutral,\n",
    "            'Negative':negative\n",
    "        })\n",
    "    except AttributeError:\n",
    "        pass\n",
    "bitcoin_df = pd.DataFrame(bitcoin_sentiments)\n",
    "columns = ['Date','Title','Text','Compound','Positive','Neutral','Neutral','Negative']\n",
    "bitcoin_df = bitcoin_df[columns]\n",
    "bitcoin_df.head()\n",
    "        \n"
   ]
  },
  {
   "cell_type": "code",
   "execution_count": 8,
   "metadata": {},
   "outputs": [
    {
     "data": {
      "text/html": [
       "<div>\n",
       "<style scoped>\n",
       "    .dataframe tbody tr th:only-of-type {\n",
       "        vertical-align: middle;\n",
       "    }\n",
       "\n",
       "    .dataframe tbody tr th {\n",
       "        vertical-align: top;\n",
       "    }\n",
       "\n",
       "    .dataframe thead th {\n",
       "        text-align: right;\n",
       "    }\n",
       "</style>\n",
       "<table border=\"1\" class=\"dataframe\">\n",
       "  <thead>\n",
       "    <tr style=\"text-align: right;\">\n",
       "      <th></th>\n",
       "      <th>Date</th>\n",
       "      <th>Title</th>\n",
       "      <th>Text</th>\n",
       "      <th>Compound</th>\n",
       "      <th>Positive</th>\n",
       "      <th>Neutral</th>\n",
       "      <th>Neutral</th>\n",
       "      <th>Negative</th>\n",
       "    </tr>\n",
       "  </thead>\n",
       "  <tbody>\n",
       "    <tr>\n",
       "      <th>0</th>\n",
       "      <td>2021-07-16T16:00:55Z</td>\n",
       "      <td>Crypto investors like Terraform Labs so much, ...</td>\n",
       "      <td>There are many blockchain platforms competing ...</td>\n",
       "      <td>0.3612</td>\n",
       "      <td>0.075</td>\n",
       "      <td>0.925</td>\n",
       "      <td>0.925</td>\n",
       "      <td>0.000</td>\n",
       "    </tr>\n",
       "    <tr>\n",
       "      <th>1</th>\n",
       "      <td>2021-07-14T19:09:01Z</td>\n",
       "      <td>Crypto startup Phantom banks funding from Andr...</td>\n",
       "      <td>While retail investors grew more comfortable b...</td>\n",
       "      <td>0.7264</td>\n",
       "      <td>0.164</td>\n",
       "      <td>0.836</td>\n",
       "      <td>0.836</td>\n",
       "      <td>0.000</td>\n",
       "    </tr>\n",
       "    <tr>\n",
       "      <th>2</th>\n",
       "      <td>2021-07-02T15:49:56Z</td>\n",
       "      <td>Ethereum now has more active addresses than bi...</td>\n",
       "      <td>Bitcoin and Ethereum\\r\\nYuriko Nakao\\r\\nEther ...</td>\n",
       "      <td>0.3612</td>\n",
       "      <td>0.110</td>\n",
       "      <td>0.849</td>\n",
       "      <td>0.849</td>\n",
       "      <td>0.041</td>\n",
       "    </tr>\n",
       "    <tr>\n",
       "      <th>3</th>\n",
       "      <td>2021-07-17T14:34:00Z</td>\n",
       "      <td>Ethereum Co-Founder Says Safety Concern Has Hi...</td>\n",
       "      <td>\"Anthony Di Iorio, a co-founder of the Ethereu...</td>\n",
       "      <td>0.6369</td>\n",
       "      <td>0.157</td>\n",
       "      <td>0.843</td>\n",
       "      <td>0.843</td>\n",
       "      <td>0.000</td>\n",
       "    </tr>\n",
       "    <tr>\n",
       "      <th>4</th>\n",
       "      <td>2021-07-05T12:54:02Z</td>\n",
       "      <td>More than $13 billion worth of ether has been ...</td>\n",
       "      <td>Ether holders have \"staked\" more than $13 bill...</td>\n",
       "      <td>0.7717</td>\n",
       "      <td>0.194</td>\n",
       "      <td>0.806</td>\n",
       "      <td>0.806</td>\n",
       "      <td>0.000</td>\n",
       "    </tr>\n",
       "  </tbody>\n",
       "</table>\n",
       "</div>"
      ],
      "text/plain": [
       "                   Date                                              Title  \\\n",
       "0  2021-07-16T16:00:55Z  Crypto investors like Terraform Labs so much, ...   \n",
       "1  2021-07-14T19:09:01Z  Crypto startup Phantom banks funding from Andr...   \n",
       "2  2021-07-02T15:49:56Z  Ethereum now has more active addresses than bi...   \n",
       "3  2021-07-17T14:34:00Z  Ethereum Co-Founder Says Safety Concern Has Hi...   \n",
       "4  2021-07-05T12:54:02Z  More than $13 billion worth of ether has been ...   \n",
       "\n",
       "                                                Text  Compound  Positive  \\\n",
       "0  There are many blockchain platforms competing ...    0.3612     0.075   \n",
       "1  While retail investors grew more comfortable b...    0.7264     0.164   \n",
       "2  Bitcoin and Ethereum\\r\\nYuriko Nakao\\r\\nEther ...    0.3612     0.110   \n",
       "3  \"Anthony Di Iorio, a co-founder of the Ethereu...    0.6369     0.157   \n",
       "4  Ether holders have \"staked\" more than $13 bill...    0.7717     0.194   \n",
       "\n",
       "   Neutral  Neutral  Negative  \n",
       "0    0.925    0.925     0.000  \n",
       "1    0.836    0.836     0.000  \n",
       "2    0.849    0.849     0.041  \n",
       "3    0.843    0.843     0.000  \n",
       "4    0.806    0.806     0.000  "
      ]
     },
     "execution_count": 8,
     "metadata": {},
     "output_type": "execute_result"
    }
   ],
   "source": [
    "# Create the Ethereum sentiment scores DataFrame\n",
    "ethereum_sentiments = []\n",
    "for news in ethereum_headlines['articles']:\n",
    "    try:\n",
    "        text = news['content']\n",
    "        date = news['publishedAt']\n",
    "        title= news['title']\n",
    "        sentiment = analyzer.polarity_scores(text)\n",
    "        compound = sentiment['compound']\n",
    "        positive = sentiment['pos']\n",
    "        neutral = sentiment['neu']\n",
    "        negative = sentiment['neg']\n",
    "        ethereum_sentiments.append({\n",
    "            'Title': title,\n",
    "            'Text': text,\n",
    "            'Date': date,\n",
    "            'Compound': compound,\n",
    "            'Positive': positive,\n",
    "            'Neutral': neutral,\n",
    "            'Negative':negative\n",
    "        })\n",
    "    except AttributeError:\n",
    "        pass\n",
    "ethereum_df = pd.DataFrame(ethereum_sentiments)\n",
    "columns = ['Date','Title','Text','Compound','Positive','Neutral','Neutral','Negative']\n",
    "ethereum_df = ethereum_df[columns]\n",
    "ethereum_df.head()"
   ]
  },
  {
   "cell_type": "code",
   "execution_count": 9,
   "metadata": {},
   "outputs": [
    {
     "data": {
      "text/html": [
       "<div>\n",
       "<style scoped>\n",
       "    .dataframe tbody tr th:only-of-type {\n",
       "        vertical-align: middle;\n",
       "    }\n",
       "\n",
       "    .dataframe tbody tr th {\n",
       "        vertical-align: top;\n",
       "    }\n",
       "\n",
       "    .dataframe thead th {\n",
       "        text-align: right;\n",
       "    }\n",
       "</style>\n",
       "<table border=\"1\" class=\"dataframe\">\n",
       "  <thead>\n",
       "    <tr style=\"text-align: right;\">\n",
       "      <th></th>\n",
       "      <th>Compound</th>\n",
       "      <th>Positive</th>\n",
       "      <th>Neutral</th>\n",
       "      <th>Neutral</th>\n",
       "      <th>Negative</th>\n",
       "    </tr>\n",
       "  </thead>\n",
       "  <tbody>\n",
       "    <tr>\n",
       "      <th>count</th>\n",
       "      <td>20.000000</td>\n",
       "      <td>20.000000</td>\n",
       "      <td>20.00000</td>\n",
       "      <td>20.00000</td>\n",
       "      <td>20.000000</td>\n",
       "    </tr>\n",
       "    <tr>\n",
       "      <th>mean</th>\n",
       "      <td>-0.001585</td>\n",
       "      <td>0.043850</td>\n",
       "      <td>0.91785</td>\n",
       "      <td>0.91785</td>\n",
       "      <td>0.038250</td>\n",
       "    </tr>\n",
       "    <tr>\n",
       "      <th>std</th>\n",
       "      <td>0.366882</td>\n",
       "      <td>0.064203</td>\n",
       "      <td>0.08801</td>\n",
       "      <td>0.08801</td>\n",
       "      <td>0.055168</td>\n",
       "    </tr>\n",
       "    <tr>\n",
       "      <th>min</th>\n",
       "      <td>-0.612400</td>\n",
       "      <td>0.000000</td>\n",
       "      <td>0.70500</td>\n",
       "      <td>0.70500</td>\n",
       "      <td>0.000000</td>\n",
       "    </tr>\n",
       "    <tr>\n",
       "      <th>25%</th>\n",
       "      <td>-0.095450</td>\n",
       "      <td>0.000000</td>\n",
       "      <td>0.84025</td>\n",
       "      <td>0.84025</td>\n",
       "      <td>0.000000</td>\n",
       "    </tr>\n",
       "    <tr>\n",
       "      <th>50%</th>\n",
       "      <td>0.000000</td>\n",
       "      <td>0.000000</td>\n",
       "      <td>0.92000</td>\n",
       "      <td>0.92000</td>\n",
       "      <td>0.000000</td>\n",
       "    </tr>\n",
       "    <tr>\n",
       "      <th>75%</th>\n",
       "      <td>0.108475</td>\n",
       "      <td>0.105750</td>\n",
       "      <td>1.00000</td>\n",
       "      <td>1.00000</td>\n",
       "      <td>0.076250</td>\n",
       "    </tr>\n",
       "    <tr>\n",
       "      <th>max</th>\n",
       "      <td>0.726400</td>\n",
       "      <td>0.178000</td>\n",
       "      <td>1.00000</td>\n",
       "      <td>1.00000</td>\n",
       "      <td>0.184000</td>\n",
       "    </tr>\n",
       "  </tbody>\n",
       "</table>\n",
       "</div>"
      ],
      "text/plain": [
       "        Compound   Positive   Neutral   Neutral   Negative\n",
       "count  20.000000  20.000000  20.00000  20.00000  20.000000\n",
       "mean   -0.001585   0.043850   0.91785   0.91785   0.038250\n",
       "std     0.366882   0.064203   0.08801   0.08801   0.055168\n",
       "min    -0.612400   0.000000   0.70500   0.70500   0.000000\n",
       "25%    -0.095450   0.000000   0.84025   0.84025   0.000000\n",
       "50%     0.000000   0.000000   0.92000   0.92000   0.000000\n",
       "75%     0.108475   0.105750   1.00000   1.00000   0.076250\n",
       "max     0.726400   0.178000   1.00000   1.00000   0.184000"
      ]
     },
     "execution_count": 9,
     "metadata": {},
     "output_type": "execute_result"
    }
   ],
   "source": [
    "# Describe the Bitcoin Sentiment\n",
    "bitcoin_df.describe()"
   ]
  },
  {
   "cell_type": "code",
   "execution_count": 10,
   "metadata": {},
   "outputs": [
    {
     "data": {
      "text/html": [
       "<div>\n",
       "<style scoped>\n",
       "    .dataframe tbody tr th:only-of-type {\n",
       "        vertical-align: middle;\n",
       "    }\n",
       "\n",
       "    .dataframe tbody tr th {\n",
       "        vertical-align: top;\n",
       "    }\n",
       "\n",
       "    .dataframe thead th {\n",
       "        text-align: right;\n",
       "    }\n",
       "</style>\n",
       "<table border=\"1\" class=\"dataframe\">\n",
       "  <thead>\n",
       "    <tr style=\"text-align: right;\">\n",
       "      <th></th>\n",
       "      <th>Compound</th>\n",
       "      <th>Positive</th>\n",
       "      <th>Neutral</th>\n",
       "      <th>Neutral</th>\n",
       "      <th>Negative</th>\n",
       "    </tr>\n",
       "  </thead>\n",
       "  <tbody>\n",
       "    <tr>\n",
       "      <th>count</th>\n",
       "      <td>20.000000</td>\n",
       "      <td>20.000000</td>\n",
       "      <td>20.000000</td>\n",
       "      <td>20.000000</td>\n",
       "      <td>20.000000</td>\n",
       "    </tr>\n",
       "    <tr>\n",
       "      <th>mean</th>\n",
       "      <td>0.255185</td>\n",
       "      <td>0.074900</td>\n",
       "      <td>0.908250</td>\n",
       "      <td>0.908250</td>\n",
       "      <td>0.016850</td>\n",
       "    </tr>\n",
       "    <tr>\n",
       "      <th>std</th>\n",
       "      <td>0.342762</td>\n",
       "      <td>0.071082</td>\n",
       "      <td>0.075962</td>\n",
       "      <td>0.075962</td>\n",
       "      <td>0.030824</td>\n",
       "    </tr>\n",
       "    <tr>\n",
       "      <th>min</th>\n",
       "      <td>-0.381800</td>\n",
       "      <td>0.000000</td>\n",
       "      <td>0.782000</td>\n",
       "      <td>0.782000</td>\n",
       "      <td>0.000000</td>\n",
       "    </tr>\n",
       "    <tr>\n",
       "      <th>25%</th>\n",
       "      <td>0.000000</td>\n",
       "      <td>0.000000</td>\n",
       "      <td>0.842750</td>\n",
       "      <td>0.842750</td>\n",
       "      <td>0.000000</td>\n",
       "    </tr>\n",
       "    <tr>\n",
       "      <th>50%</th>\n",
       "      <td>0.305600</td>\n",
       "      <td>0.077500</td>\n",
       "      <td>0.920000</td>\n",
       "      <td>0.920000</td>\n",
       "      <td>0.000000</td>\n",
       "    </tr>\n",
       "    <tr>\n",
       "      <th>75%</th>\n",
       "      <td>0.528675</td>\n",
       "      <td>0.149250</td>\n",
       "      <td>1.000000</td>\n",
       "      <td>1.000000</td>\n",
       "      <td>0.010250</td>\n",
       "    </tr>\n",
       "    <tr>\n",
       "      <th>max</th>\n",
       "      <td>0.771700</td>\n",
       "      <td>0.194000</td>\n",
       "      <td>1.000000</td>\n",
       "      <td>1.000000</td>\n",
       "      <td>0.080000</td>\n",
       "    </tr>\n",
       "  </tbody>\n",
       "</table>\n",
       "</div>"
      ],
      "text/plain": [
       "        Compound   Positive    Neutral    Neutral   Negative\n",
       "count  20.000000  20.000000  20.000000  20.000000  20.000000\n",
       "mean    0.255185   0.074900   0.908250   0.908250   0.016850\n",
       "std     0.342762   0.071082   0.075962   0.075962   0.030824\n",
       "min    -0.381800   0.000000   0.782000   0.782000   0.000000\n",
       "25%     0.000000   0.000000   0.842750   0.842750   0.000000\n",
       "50%     0.305600   0.077500   0.920000   0.920000   0.000000\n",
       "75%     0.528675   0.149250   1.000000   1.000000   0.010250\n",
       "max     0.771700   0.194000   1.000000   1.000000   0.080000"
      ]
     },
     "execution_count": 10,
     "metadata": {},
     "output_type": "execute_result"
    }
   ],
   "source": [
    "# Describe the Ethereum Sentiment\n",
    "ethereum_df.describe()"
   ]
  },
  {
   "cell_type": "markdown",
   "metadata": {},
   "source": [
    "### Questions:\n",
    "\n",
    "Q: Which coin had the highest mean positive score?\n",
    "\n",
    "A: Ethereum has the highest mean positive score\n",
    "\n",
    "Q: Which coin had the highest compound score?\n",
    "\n",
    "A: Ethereum has the highest compound score\n",
    "\n",
    "Q. Which coin had the highest positive score?\n",
    "\n",
    "A: Ethereum had the highest positive score"
   ]
  },
  {
   "cell_type": "markdown",
   "metadata": {},
   "source": [
    "---"
   ]
  },
  {
   "cell_type": "markdown",
   "metadata": {},
   "source": [
    "## 2. Natural Language Processing\n",
    "---\n",
    "###   Tokenizer\n",
    "\n",
    "In this section, you will use NLTK and Python to tokenize the text for each coin. Be sure to:\n",
    "1. Lowercase each word.\n",
    "2. Remove Punctuation.\n",
    "3. Remove Stopwords."
   ]
  },
  {
   "cell_type": "code",
   "execution_count": 11,
   "metadata": {},
   "outputs": [],
   "source": [
    "from nltk.tokenize import word_tokenize, sent_tokenize\n",
    "from nltk.corpus import stopwords\n",
    "from nltk.stem import WordNetLemmatizer, PorterStemmer\n",
    "from string import punctuation\n",
    "import re"
   ]
  },
  {
   "cell_type": "code",
   "execution_count": 15,
   "metadata": {},
   "outputs": [],
   "source": [
    "# Instantiate the lemmatizer\n",
    "lemmatizer = WordNetLemmatizer()\n",
    "\n",
    "# Create a list of stopwords\n",
    "stopwords = set(stopwords.words('english'))\n",
    "\n",
    "# Expand the default stopwords list if necessary\n",
    "addon = {'.'}\n",
    "sw = stopwords.union(addon)"
   ]
  },
  {
   "cell_type": "code",
   "execution_count": 16,
   "metadata": {},
   "outputs": [],
   "source": [
    "# Complete the tokenizer function\n",
    "def tokenizer(text):\n",
    "    \n",
    "    # Remove the punctuation from text\n",
    "    regex = re.compile('[^a-zA-Z ]')\n",
    "    re_clean = regex.sub('', text)\n",
    "   \n",
    "    # Create a tokenized list of the words\n",
    "    words = word_tokenize(re_clean)\n",
    "    \n",
    "    # Lemmatize words into root words\n",
    "    lem = [lemmatizer.lemmatize(word) for word in words]\n",
    "   \n",
    "    # Convert the words to lowercase\n",
    "    tokens = [x.lower() for x in words if x.lower() not in sw.union(addon)]\n",
    "    \n",
    "    # Remove the stop words\n",
    "    \n",
    "    \n",
    "    return tokens"
   ]
  },
  {
   "cell_type": "code",
   "execution_count": 17,
   "metadata": {},
   "outputs": [
    {
     "data": {
      "text/html": [
       "<div>\n",
       "<style scoped>\n",
       "    .dataframe tbody tr th:only-of-type {\n",
       "        vertical-align: middle;\n",
       "    }\n",
       "\n",
       "    .dataframe tbody tr th {\n",
       "        vertical-align: top;\n",
       "    }\n",
       "\n",
       "    .dataframe thead th {\n",
       "        text-align: right;\n",
       "    }\n",
       "</style>\n",
       "<table border=\"1\" class=\"dataframe\">\n",
       "  <thead>\n",
       "    <tr style=\"text-align: right;\">\n",
       "      <th></th>\n",
       "      <th>Date</th>\n",
       "      <th>Title</th>\n",
       "      <th>Text</th>\n",
       "      <th>Compound</th>\n",
       "      <th>Positive</th>\n",
       "      <th>Neutral</th>\n",
       "      <th>Neutral</th>\n",
       "      <th>Negative</th>\n",
       "      <th>tokens</th>\n",
       "    </tr>\n",
       "  </thead>\n",
       "  <tbody>\n",
       "    <tr>\n",
       "      <th>0</th>\n",
       "      <td>2021-07-19T11:00:00Z</td>\n",
       "      <td>Why Not Use Self-Driving Cars as Supercomputers?</td>\n",
       "      <td>Like Dogecoin devotees, the mayor of Reno, and...</td>\n",
       "      <td>0.6908</td>\n",
       "      <td>0.178</td>\n",
       "      <td>0.822</td>\n",
       "      <td>0.822</td>\n",
       "      <td>0.000</td>\n",
       "      <td>[like, dogecoin, devotees, mayor, reno, leader...</td>\n",
       "    </tr>\n",
       "    <tr>\n",
       "      <th>1</th>\n",
       "      <td>2021-07-05T19:45:10Z</td>\n",
       "      <td>Kaseya ransomware attackers demand $70 million...</td>\n",
       "      <td>Filed under:\\r\\nThe supply chain attack has re...</td>\n",
       "      <td>-0.5719</td>\n",
       "      <td>0.111</td>\n",
       "      <td>0.705</td>\n",
       "      <td>0.705</td>\n",
       "      <td>0.184</td>\n",
       "      <td>[filed, underthe, supply, chain, attack, reach...</td>\n",
       "    </tr>\n",
       "    <tr>\n",
       "      <th>2</th>\n",
       "      <td>2021-07-05T12:14:34Z</td>\n",
       "      <td>Gang behind huge cyber-attack demands $70m in ...</td>\n",
       "      <td>image copyrightGetty Images\\r\\nThe gang behind...</td>\n",
       "      <td>-0.6124</td>\n",
       "      <td>0.000</td>\n",
       "      <td>0.857</td>\n",
       "      <td>0.857</td>\n",
       "      <td>0.143</td>\n",
       "      <td>[image, copyrightgetty, imagesthe, gang, behin...</td>\n",
       "    </tr>\n",
       "    <tr>\n",
       "      <th>3</th>\n",
       "      <td>2021-07-14T19:09:01Z</td>\n",
       "      <td>Crypto startup Phantom banks funding from Andr...</td>\n",
       "      <td>While retail investors grew more comfortable b...</td>\n",
       "      <td>0.7264</td>\n",
       "      <td>0.164</td>\n",
       "      <td>0.836</td>\n",
       "      <td>0.836</td>\n",
       "      <td>0.000</td>\n",
       "      <td>[retail, investors, grew, comfortable, buying,...</td>\n",
       "    </tr>\n",
       "    <tr>\n",
       "      <th>4</th>\n",
       "      <td>2021-07-21T22:00:14Z</td>\n",
       "      <td>Michael Arrington’s next act</td>\n",
       "      <td>As longtime TechCrunch readers know well, Mich...</td>\n",
       "      <td>0.4939</td>\n",
       "      <td>0.127</td>\n",
       "      <td>0.873</td>\n",
       "      <td>0.873</td>\n",
       "      <td>0.000</td>\n",
       "      <td>[longtime, techcrunch, readers, know, well, mi...</td>\n",
       "    </tr>\n",
       "  </tbody>\n",
       "</table>\n",
       "</div>"
      ],
      "text/plain": [
       "                   Date                                              Title  \\\n",
       "0  2021-07-19T11:00:00Z   Why Not Use Self-Driving Cars as Supercomputers?   \n",
       "1  2021-07-05T19:45:10Z  Kaseya ransomware attackers demand $70 million...   \n",
       "2  2021-07-05T12:14:34Z  Gang behind huge cyber-attack demands $70m in ...   \n",
       "3  2021-07-14T19:09:01Z  Crypto startup Phantom banks funding from Andr...   \n",
       "4  2021-07-21T22:00:14Z                       Michael Arrington’s next act   \n",
       "\n",
       "                                                Text  Compound  Positive  \\\n",
       "0  Like Dogecoin devotees, the mayor of Reno, and...    0.6908     0.178   \n",
       "1  Filed under:\\r\\nThe supply chain attack has re...   -0.5719     0.111   \n",
       "2  image copyrightGetty Images\\r\\nThe gang behind...   -0.6124     0.000   \n",
       "3  While retail investors grew more comfortable b...    0.7264     0.164   \n",
       "4  As longtime TechCrunch readers know well, Mich...    0.4939     0.127   \n",
       "\n",
       "   Neutral  Neutral  Negative  \\\n",
       "0    0.822    0.822     0.000   \n",
       "1    0.705    0.705     0.184   \n",
       "2    0.857    0.857     0.143   \n",
       "3    0.836    0.836     0.000   \n",
       "4    0.873    0.873     0.000   \n",
       "\n",
       "                                              tokens  \n",
       "0  [like, dogecoin, devotees, mayor, reno, leader...  \n",
       "1  [filed, underthe, supply, chain, attack, reach...  \n",
       "2  [image, copyrightgetty, imagesthe, gang, behin...  \n",
       "3  [retail, investors, grew, comfortable, buying,...  \n",
       "4  [longtime, techcrunch, readers, know, well, mi...  "
      ]
     },
     "execution_count": 17,
     "metadata": {},
     "output_type": "execute_result"
    }
   ],
   "source": [
    "# Create a new tokens column for Bitcoin\n",
    "bitcoin_token = []\n",
    "for text in bitcoin_df['Text']:\n",
    "    tokens = tokenizer(text)\n",
    "    bitcoin_token.append(tokens)\n",
    "bitcoin_df['tokens'] = bitcoin_token\n",
    "bitcoin_df.head()"
   ]
  },
  {
   "cell_type": "code",
   "execution_count": 18,
   "metadata": {},
   "outputs": [
    {
     "data": {
      "text/html": [
       "<div>\n",
       "<style scoped>\n",
       "    .dataframe tbody tr th:only-of-type {\n",
       "        vertical-align: middle;\n",
       "    }\n",
       "\n",
       "    .dataframe tbody tr th {\n",
       "        vertical-align: top;\n",
       "    }\n",
       "\n",
       "    .dataframe thead th {\n",
       "        text-align: right;\n",
       "    }\n",
       "</style>\n",
       "<table border=\"1\" class=\"dataframe\">\n",
       "  <thead>\n",
       "    <tr style=\"text-align: right;\">\n",
       "      <th></th>\n",
       "      <th>Date</th>\n",
       "      <th>Title</th>\n",
       "      <th>Text</th>\n",
       "      <th>Compound</th>\n",
       "      <th>Positive</th>\n",
       "      <th>Neutral</th>\n",
       "      <th>Neutral</th>\n",
       "      <th>Negative</th>\n",
       "      <th>tokens</th>\n",
       "    </tr>\n",
       "  </thead>\n",
       "  <tbody>\n",
       "    <tr>\n",
       "      <th>0</th>\n",
       "      <td>2021-07-16T16:00:55Z</td>\n",
       "      <td>Crypto investors like Terraform Labs so much, ...</td>\n",
       "      <td>There are many blockchain platforms competing ...</td>\n",
       "      <td>0.3612</td>\n",
       "      <td>0.075</td>\n",
       "      <td>0.925</td>\n",
       "      <td>0.925</td>\n",
       "      <td>0.000</td>\n",
       "      <td>[many, blockchain, platforms, competing, inves...</td>\n",
       "    </tr>\n",
       "    <tr>\n",
       "      <th>1</th>\n",
       "      <td>2021-07-14T19:09:01Z</td>\n",
       "      <td>Crypto startup Phantom banks funding from Andr...</td>\n",
       "      <td>While retail investors grew more comfortable b...</td>\n",
       "      <td>0.7264</td>\n",
       "      <td>0.164</td>\n",
       "      <td>0.836</td>\n",
       "      <td>0.836</td>\n",
       "      <td>0.000</td>\n",
       "      <td>[retail, investors, grew, comfortable, buying,...</td>\n",
       "    </tr>\n",
       "    <tr>\n",
       "      <th>2</th>\n",
       "      <td>2021-07-02T15:49:56Z</td>\n",
       "      <td>Ethereum now has more active addresses than bi...</td>\n",
       "      <td>Bitcoin and Ethereum\\r\\nYuriko Nakao\\r\\nEther ...</td>\n",
       "      <td>0.3612</td>\n",
       "      <td>0.110</td>\n",
       "      <td>0.849</td>\n",
       "      <td>0.849</td>\n",
       "      <td>0.041</td>\n",
       "      <td>[bitcoin, ethereumyuriko, nakaoether, overtook...</td>\n",
       "    </tr>\n",
       "    <tr>\n",
       "      <th>3</th>\n",
       "      <td>2021-07-17T14:34:00Z</td>\n",
       "      <td>Ethereum Co-Founder Says Safety Concern Has Hi...</td>\n",
       "      <td>\"Anthony Di Iorio, a co-founder of the Ethereu...</td>\n",
       "      <td>0.6369</td>\n",
       "      <td>0.157</td>\n",
       "      <td>0.843</td>\n",
       "      <td>0.843</td>\n",
       "      <td>0.000</td>\n",
       "      <td>[anthony, di, iorio, cofounder, ethereum, netw...</td>\n",
       "    </tr>\n",
       "    <tr>\n",
       "      <th>4</th>\n",
       "      <td>2021-07-05T12:54:02Z</td>\n",
       "      <td>More than $13 billion worth of ether has been ...</td>\n",
       "      <td>Ether holders have \"staked\" more than $13 bill...</td>\n",
       "      <td>0.7717</td>\n",
       "      <td>0.194</td>\n",
       "      <td>0.806</td>\n",
       "      <td>0.806</td>\n",
       "      <td>0.000</td>\n",
       "      <td>[ether, holders, staked, billion, worth, crypt...</td>\n",
       "    </tr>\n",
       "  </tbody>\n",
       "</table>\n",
       "</div>"
      ],
      "text/plain": [
       "                   Date                                              Title  \\\n",
       "0  2021-07-16T16:00:55Z  Crypto investors like Terraform Labs so much, ...   \n",
       "1  2021-07-14T19:09:01Z  Crypto startup Phantom banks funding from Andr...   \n",
       "2  2021-07-02T15:49:56Z  Ethereum now has more active addresses than bi...   \n",
       "3  2021-07-17T14:34:00Z  Ethereum Co-Founder Says Safety Concern Has Hi...   \n",
       "4  2021-07-05T12:54:02Z  More than $13 billion worth of ether has been ...   \n",
       "\n",
       "                                                Text  Compound  Positive  \\\n",
       "0  There are many blockchain platforms competing ...    0.3612     0.075   \n",
       "1  While retail investors grew more comfortable b...    0.7264     0.164   \n",
       "2  Bitcoin and Ethereum\\r\\nYuriko Nakao\\r\\nEther ...    0.3612     0.110   \n",
       "3  \"Anthony Di Iorio, a co-founder of the Ethereu...    0.6369     0.157   \n",
       "4  Ether holders have \"staked\" more than $13 bill...    0.7717     0.194   \n",
       "\n",
       "   Neutral  Neutral  Negative  \\\n",
       "0    0.925    0.925     0.000   \n",
       "1    0.836    0.836     0.000   \n",
       "2    0.849    0.849     0.041   \n",
       "3    0.843    0.843     0.000   \n",
       "4    0.806    0.806     0.000   \n",
       "\n",
       "                                              tokens  \n",
       "0  [many, blockchain, platforms, competing, inves...  \n",
       "1  [retail, investors, grew, comfortable, buying,...  \n",
       "2  [bitcoin, ethereumyuriko, nakaoether, overtook...  \n",
       "3  [anthony, di, iorio, cofounder, ethereum, netw...  \n",
       "4  [ether, holders, staked, billion, worth, crypt...  "
      ]
     },
     "execution_count": 18,
     "metadata": {},
     "output_type": "execute_result"
    }
   ],
   "source": [
    "# Create a new tokens column for Ethereum\n",
    "ethereum_token = []\n",
    "for text in ethereum_df['Text']:\n",
    "    tokens = tokenizer(text)\n",
    "    ethereum_token.append(tokens)\n",
    "ethereum_df['tokens'] = ethereum_token\n",
    "ethereum_df.head()"
   ]
  },
  {
   "cell_type": "markdown",
   "metadata": {},
   "source": [
    "---"
   ]
  },
  {
   "cell_type": "markdown",
   "metadata": {},
   "source": [
    "### NGrams and Frequency Analysis\n",
    "\n",
    "In this section you will look at the ngrams and word frequency for each coin. \n",
    "\n",
    "1. Use NLTK to produce the n-grams for N = 2. \n",
    "2. List the top 10 words for each coin. "
   ]
  },
  {
   "cell_type": "code",
   "execution_count": 21,
   "metadata": {},
   "outputs": [],
   "source": [
    "from collections import Counter\n",
    "from nltk import ngrams"
   ]
  },
  {
   "cell_type": "code",
   "execution_count": 22,
   "metadata": {},
   "outputs": [
    {
     "data": {
      "text/plain": [
       "[dict_items([(('like', 'dogecoin'), 1), (('dogecoin', 'devotees'), 1), (('devotees', 'mayor'), 1), (('mayor', 'reno'), 1), (('reno', 'leaders'), 1), (('leaders', 'el'), 1), (('el', 'salvador'), 1), (('salvador', 'aldo'), 1), (('aldo', 'baoicchi'), 1), (('baoicchi', 'convinced'), 1), (('convinced', 'cryptocurrency'), 1), (('cryptocurrency', 'future'), 1), (('future', 'ceo'), 1), (('ceo', 'founder'), 1), (('founder', 'canadian'), 1), (('canadian', 'scooter'), 1), (('scooter', 'maker'), 1), (('maker', 'daymak'), 1), (('daymak', 'believes'), 1), (('believes', 'chars'), 1)]),\n",
       " dict_items([(('filed', 'underthe'), 1), (('underthe', 'supply'), 1), (('supply', 'chain'), 1), (('chain', 'attack'), 1), (('attack', 'reached'), 1), (('reached', 'thousand'), 1), (('thousand', 'organizationsillustration'), 1), (('organizationsillustration', 'alex'), 1), (('alex', 'castro'), 1), (('castro', 'vergethree'), 1), (('vergethree', 'days'), 1), (('days', 'ransomware'), 1), (('ransomware', 'attackers'), 1), (('attackers', 'started'), 1), (('started', 'holiday'), 1), (('holiday', 'weekend'), 1), (('weekend', 'comprom'), 1), (('comprom', 'chars'), 1)]),\n",
       " dict_items([(('image', 'copyrightgetty'), 1), (('copyrightgetty', 'imagesthe'), 1), (('imagesthe', 'gang'), 1), (('gang', 'behind'), 1), (('behind', 'colossal'), 1), (('colossal', 'ransomware'), 1), (('ransomware', 'attack'), 1), (('attack', 'demanded'), 1), (('demanded', 'paid'), 1), (('paid', 'bitcoin'), 1), (('bitcoin', 'return'), 1), (('return', 'universal'), 1), (('universal', 'decryptor'), 1), (('decryptor', 'says'), 1), (('says', 'unlock'), 1), (('unlock', 'files'), 1), (('files', 'chars'), 1)]),\n",
       " dict_items([(('retail', 'investors'), 1), (('investors', 'grew'), 1), (('grew', 'comfortable'), 1), (('comfortable', 'buying'), 1), (('buying', 'cryptocurrencies'), 1), (('cryptocurrencies', 'like'), 1), (('like', 'bitcoin'), 1), (('bitcoin', 'ethereum'), 1), (('ethereum', 'decentralized'), 1), (('decentralized', 'application'), 1), (('application', 'world'), 1), (('world', 'still'), 1), (('still', 'lot'), 1), (('lot', 'work'), 1), (('work', 'comes'), 1), (('comes', 'onboarding'), 1), (('onboarding', 'chars'), 1)]),\n",
       " dict_items([(('longtime', 'techcrunch'), 1), (('techcrunch', 'readers'), 1), (('readers', 'know'), 1), (('know', 'well'), 1), (('well', 'michael'), 1), (('michael', 'arrington'), 1), (('arrington', 'cofounded'), 1), (('cofounded', 'techcrunch'), 1), (('techcrunch', 'crunchbase'), 1), (('crunchbase', 'well'), 1), (('well', 'venture'), 1), (('venture', 'fund'), 1), (('fund', 'crunchfund'), 1), (('crunchfund', 'later'), 1), (('later', 'renamed'), 1), (('renamed', 'tuesday'), 1), (('tuesday', 'capital'), 1), (('capital', 'arringto'), 1), (('arringto', 'chars'), 1)]),\n",
       " dict_items([(('london', 'june'), 1), (('june', 'reuters'), 1), (('reuters', 'el'), 1), (('el', 'salvador'), 1), (('salvador', 'determined'), 1), (('determined', 'push'), 1), (('push', 'ahead'), 1), (('ahead', 'making'), 1), (('making', 'bitcoin'), 1), (('bitcoin', 'legal'), 1), (('legal', 'tender'), 1), (('tender', 'process'), 1), (('process', 'bring'), 1), (('bring', 'small'), 1), (('small', 'risks'), 1), (('risks', 'prove'), 1), (('prove', 'leap'), 1), (('leap', 'forward'), 1), (('forward', 'humanity'), 1), (('humanity', 'countrys'), 1), (('countrys', 'chars'), 1)]),\n",
       " dict_items([(('london', 'june'), 1), (('june', 'reuters'), 1), (('reuters', 'el'), 1), (('el', 'salvador'), 1), (('salvador', 'determined'), 1), (('determined', 'push'), 1), (('push', 'ahead'), 1), (('ahead', 'making'), 1), (('making', 'bitcoin'), 1), (('bitcoin', 'legal'), 1), (('legal', 'tender'), 1), (('tender', 'process'), 1), (('process', 'bring'), 1), (('bring', 'small'), 1), (('small', 'risks'), 1), (('risks', 'prove'), 1), (('prove', 'leap'), 1), (('leap', 'forward'), 1), (('forward', 'humanity'), 1), (('humanity', 'countrys'), 1), (('countrys', 'pr'), 1), (('pr', 'chars'), 1)]),\n",
       " dict_items([(('story', 'originally'), 1), (('originally', 'appeared'), 1), (('appeared', 'marketbeatwhen'), 1), (('marketbeatwhen', 'meme'), 1), (('meme', 'coins'), 1), (('coins', 'surged'), 1), (('surged', 'earlier'), 1), (('earlier', 'year'), 1), (('year', 'remember'), 1), (('remember', 'dogecoin'), 1), (('dogecoin', 'mania'), 1), (('mania', 'mightve'), 1), (('mightve', 'easy'), 1), (('easy', 'dump'), 1), (('dump', 'everything'), 1), (('everything', 'owned'), 1), (('owned', 'stocks'), 1), (('stocks', 'bonds'), 1), (('bonds', 'gold'), 1), (('gold', 'crypto'), 1), (('crypto', 'chars'), 1)]),\n",
       " dict_items([(('representation', 'virtual'), 1), (('virtual', 'currency'), 1), (('currency', 'bitcoin'), 1), (('bitcoin', 'seen'), 1), (('seen', 'front'), 1), (('front', 'stock'), 1), (('stock', 'graph'), 1), (('graph', 'illustration'), 1), (('illustration', 'taken'), 1), (('taken', 'march'), 1), (('march', 'reutersdado'), 1), (('reutersdado', 'ruvicillustrationlondon'), 1), (('ruvicillustrationlondon', 'june'), 1), (('june', 'reuters'), 1), (('reuters', 'youre'), 1), (('youre', 'bitcoi'), 1), (('bitcoi', 'chars'), 1)]),\n",
       " dict_items([(('representation', 'virtual'), 1), (('virtual', 'cryptocurrency'), 1), (('cryptocurrency', 'bitcoin'), 1), (('bitcoin', 'seen'), 1), (('seen', 'picture'), 1), (('picture', 'illustration'), 1), (('illustration', 'taken'), 1), (('taken', 'june'), 1), (('june', 'reutersedgar'), 1), (('reutersedgar', 'suillustrationjune'), 1), (('suillustrationjune', 'reuters'), 1), (('reuters', 'bitcoin'), 1), (('bitcoin', 'dropped'), 1), (('dropped', 'chars'), 1)]),\n",
       " dict_items([(('reuters', 'stafffile'), 1), (('stafffile', 'photo'), 1), (('photo', 'representations'), 1), (('representations', 'bitcoin'), 1), (('bitcoin', 'cryptocurrency'), 1), (('cryptocurrency', 'seen'), 1), (('seen', 'illustration'), 1), (('illustration', 'picture'), 1), (('picture', 'taken'), 1), (('taken', 'june'), 1), (('june', 'reutersedgar'), 1), (('reutersedgar', 'suillustrationfile'), 1), (('suillustrationfile', 'photoreuters'), 1), (('photoreuters', 'bitcoin'), 1), (('bitcoin', 'ros'), 1), (('ros', 'chars'), 1)]),\n",
       " dict_items([(('james', 'martincneta'), 1), (('martincneta', 'uk'), 1), (('uk', 'man'), 1), (('man', 'arrested'), 1), (('arrested', 'spain'), 1), (('spain', 'alleged'), 1), (('alleged', 'role'), 1), (('role', 'massive'), 1), (('massive', 'hack'), 1), (('hack', 'highprofile'), 1), (('highprofile', 'twitter'), 1), (('twitter', 'accounts'), 1), (('accounts', 'targeted'), 1), (('targeted', 'politiciansand'), 1), (('politiciansand', 'celebrities'), 1), (('celebrities', 'us'), 1), (('us', 'department'), 1), (('department', 'justi'), 1), (('justi', 'chars'), 1)]),\n",
       " dict_items([(('reuters', 'staffjune'), 1), (('staffjune', 'reuters'), 1), (('reuters', 'bitcoin'), 1), (('bitcoin', 'dropped'), 1), (('dropped', 'friday'), 1), (('friday', 'losing'), 1), (('losing', 'previous'), 1), (('previous', 'closebitcoin'), 1), (('closebitcoin', 'worlds'), 1), (('worlds', 'biggest'), 1), (('biggest', 'bestknown'), 1), (('bestknown', 'cryptocurrency'), 1), (('cryptocurrency', 'chars'), 1)]),\n",
       " dict_items([(('representations', 'virtual'), 1), (('virtual', 'currency'), 1), (('currency', 'bitcoin'), 1), (('bitcoin', 'seen'), 1), (('seen', 'front'), 1), (('front', 'stock'), 1), (('stock', 'graph'), 1), (('graph', 'illustration'), 1), (('illustration', 'takenmay'), 1), (('takenmay', 'reutersdado'), 1), (('reutersdado', 'ruvicillustrationjuly'), 1), (('ruvicillustrationjuly', 'reuters'), 1), (('reuters', 'bitcoin'), 1), (('bitcoin', 'dropped'), 1), (('dropped', 'chars'), 1)]),\n",
       " dict_items([(('reuters', 'staffjune'), 1), (('staffjune', 'reuters'), 1), (('reuters', 'bitcoin'), 1), (('bitcoin', 'dipped'), 1), (('dipped', 'gmt'), 1), (('gmt', 'friday'), 1), (('friday', 'losing'), 1), (('losing', 'previous'), 1), (('previous', 'closebitcoin'), 1), (('closebitcoin', 'worlds'), 1), (('worlds', 'biggest'), 1), (('biggest', 'bestknown'), 1), (('bestknown', 'cryptocurrency'), 1), (('cryptocurrency', 'chars'), 1)]),\n",
       " dict_items([(('reuters', 'stafffile'), 1), (('stafffile', 'photo'), 1), (('photo', 'representation'), 1), (('representation', 'virtual'), 1), (('virtual', 'currency'), 1), (('currency', 'bitcoin'), 1), (('bitcoin', 'seen'), 1), (('seen', 'front'), 1), (('front', 'stock'), 1), (('stock', 'graph'), 1), (('graph', 'illustration'), 1), (('illustration', 'taken'), 1), (('taken', 'november'), 1), (('november', 'reutersdado'), 1), (('reutersdado', 'ruvicillustrationsingapore'), 1), (('ruvicillustrationsingapore', 'chars'), 1)]),\n",
       " dict_items([(('representation', 'virtual'), 1), (('virtual', 'currency'), 1), (('currency', 'bitcoin'), 1), (('bitcoin', 'seen'), 1), (('seen', 'front'), 1), (('front', 'stock'), 1), (('stock', 'graph'), 1), (('graph', 'illustration'), 1), (('illustration', 'taken'), 1), (('taken', 'november'), 1), (('november', 'reutersdado'), 1), (('reutersdado', 'ruvicillustrationsingapore'), 1), (('ruvicillustrationsingapore', 'july'), 1), (('july', 'reuters'), 1), (('reuters', 'bitcoin'), 1), (('bitcoin', 'reco'), 1), (('reco', 'chars'), 1)]),\n",
       " dict_items([(('representations', 'cryptocurrencies'), 1), (('cryptocurrencies', 'bitcoin'), 1), (('bitcoin', 'ethereum'), 1), (('ethereum', 'dogecoin'), 1), (('dogecoin', 'ripple'), 1), (('ripple', 'litecoin'), 1), (('litecoin', 'placed'), 1), (('placed', 'pc'), 1), (('pc', 'motherboard'), 1), (('motherboard', 'illustration'), 1), (('illustration', 'taken'), 1), (('taken', 'june'), 1), (('june', 'reutersdado'), 1), (('reutersdado', 'ruvicillustrationwashington'), 1), (('ruvicillustrationwashington', 'ju'), 1), (('ju', 'chars'), 1)]),\n",
       " dict_items([(('reuters', 'staffdubai'), 1), (('staffdubai', 'june'), 1), (('june', 'reuters'), 1), (('reuters', 'bitcoin'), 1), (('bitcoin', 'fund'), 1), (('fund', 'debuted'), 1), (('debuted', 'nasdaq'), 1), (('nasdaq', 'dubai'), 1), (('dubai', 'wednesday'), 1), (('wednesday', 'becoming'), 1), (('becoming', 'middle'), 1), (('middle', 'easts'), 1), (('easts', 'first'), 1), (('first', 'listed'), 1), (('listed', 'cryptocurrency'), 1), (('cryptocurrency', 'fundthe'), 1), (('fundthe', 'fund'), 1), (('fund', 'listed'), 1), (('listed', 'canadian'), 1), (('canadian', 'chars'), 1)]),\n",
       " dict_items([(('representation', 'virtual'), 1), (('virtual', 'currency'), 1), (('currency', 'bitcoin'), 1), (('bitcoin', 'seen'), 1), (('seen', 'front'), 1), (('front', 'stock'), 1), (('stock', 'graph'), 1), (('graph', 'illustration'), 1), (('illustration', 'taken'), 1), (('taken', 'march'), 1), (('march', 'reutersdado'), 1), (('reutersdado', 'ruvicillustrationdubai'), 1), (('ruvicillustrationdubai', 'june'), 1), (('june', 'reuters'), 1), (('reuters', 'bitcoin'), 1), (('bitcoin', 'fund'), 1), (('fund', 'q'), 1), (('q', 'chars'), 1)])]"
      ]
     },
     "execution_count": 22,
     "metadata": {},
     "output_type": "execute_result"
    }
   ],
   "source": [
    "# Generate the Bitcoin N-grams where N=2\n",
    "bitcoin_ngram_count = []\n",
    "for tokens in bitcoin_df['tokens']:\n",
    "    ngrams_count = dict(Counter(ngrams(tokens, n=2)))\n",
    "    bitcoin_ngram_count.append(ngrams_count.items())\n",
    "bitcoin_ngram_count"
   ]
  },
  {
   "cell_type": "code",
   "execution_count": 17,
   "metadata": {},
   "outputs": [],
   "source": [
    "# Generate the Ethereum N-grams where N=2\n",
    "# YOUR CODE HERE!"
   ]
  },
  {
   "cell_type": "code",
   "execution_count": 18,
   "metadata": {},
   "outputs": [],
   "source": [
    "# Function token_count generates the top 10 words for a given coin\n",
    "def token_count(tokens, N=3):\n",
    "    \"\"\"Returns the top N tokens from the frequency count\"\"\"\n",
    "    return Counter(tokens).most_common(N)"
   ]
  },
  {
   "cell_type": "code",
   "execution_count": 19,
   "metadata": {},
   "outputs": [],
   "source": [
    "# Use token_count to get the top 10 words for Bitcoin\n",
    "# YOUR CODE HERE!"
   ]
  },
  {
   "cell_type": "code",
   "execution_count": 20,
   "metadata": {},
   "outputs": [],
   "source": [
    "# Use token_count to get the top 10 words for Ethereum\n",
    "# YOUR CODE HERE!"
   ]
  },
  {
   "cell_type": "markdown",
   "metadata": {},
   "source": [
    "---"
   ]
  },
  {
   "cell_type": "markdown",
   "metadata": {},
   "source": [
    "### Word Clouds\n",
    "\n",
    "In this section, you will generate word clouds for each coin to summarize the news for each coin"
   ]
  },
  {
   "cell_type": "code",
   "execution_count": 21,
   "metadata": {},
   "outputs": [],
   "source": [
    "from wordcloud import WordCloud\n",
    "import matplotlib.pyplot as plt\n",
    "plt.style.use('seaborn-whitegrid')\n",
    "import matplotlib as mpl\n",
    "mpl.rcParams['figure.figsize'] = [20.0, 10.0]"
   ]
  },
  {
   "cell_type": "code",
   "execution_count": 22,
   "metadata": {},
   "outputs": [],
   "source": [
    "# Generate the Bitcoin word cloud\n",
    "# YOUR CODE HERE!"
   ]
  },
  {
   "cell_type": "code",
   "execution_count": 23,
   "metadata": {},
   "outputs": [],
   "source": [
    "# Generate the Ethereum word cloud\n",
    "# YOUR CODE HERE!"
   ]
  },
  {
   "cell_type": "markdown",
   "metadata": {},
   "source": [
    "---\n",
    "## 3. Named Entity Recognition\n",
    "\n",
    "In this section, you will build a named entity recognition model for both Bitcoin and Ethereum, then visualize the tags using SpaCy."
   ]
  },
  {
   "cell_type": "code",
   "execution_count": 24,
   "metadata": {},
   "outputs": [],
   "source": [
    "import spacy\n",
    "from spacy import displacy"
   ]
  },
  {
   "cell_type": "code",
   "execution_count": 25,
   "metadata": {},
   "outputs": [],
   "source": [
    "# Download the language model for SpaCy\n",
    "# !python -m spacy download en_core_web_sm"
   ]
  },
  {
   "cell_type": "code",
   "execution_count": 26,
   "metadata": {},
   "outputs": [],
   "source": [
    "# Load the spaCy model\n",
    "nlp = spacy.load('en_core_web_sm')"
   ]
  },
  {
   "cell_type": "markdown",
   "metadata": {},
   "source": [
    "---\n",
    "### Bitcoin NER"
   ]
  },
  {
   "cell_type": "code",
   "execution_count": 27,
   "metadata": {},
   "outputs": [],
   "source": [
    "# Concatenate all of the Bitcoin text together\n",
    "# YOUR CODE HERE!"
   ]
  },
  {
   "cell_type": "code",
   "execution_count": 28,
   "metadata": {},
   "outputs": [],
   "source": [
    "# Run the NER processor on all of the text\n",
    "# YOUR CODE HERE!\n",
    "\n",
    "# Add a title to the document\n",
    "# YOUR CODE HERE!"
   ]
  },
  {
   "cell_type": "code",
   "execution_count": 29,
   "metadata": {},
   "outputs": [],
   "source": [
    "# Render the visualization\n",
    "# YOUR CODE HERE!"
   ]
  },
  {
   "cell_type": "code",
   "execution_count": 30,
   "metadata": {},
   "outputs": [],
   "source": [
    "# List all Entities\n",
    "# YOUR CODE HERE!"
   ]
  },
  {
   "cell_type": "markdown",
   "metadata": {},
   "source": [
    "---"
   ]
  },
  {
   "cell_type": "markdown",
   "metadata": {},
   "source": [
    "### Ethereum NER"
   ]
  },
  {
   "cell_type": "code",
   "execution_count": 31,
   "metadata": {},
   "outputs": [],
   "source": [
    "# Concatenate all of the Ethereum text together\n",
    "# YOUR CODE HERE!"
   ]
  },
  {
   "cell_type": "code",
   "execution_count": 32,
   "metadata": {},
   "outputs": [],
   "source": [
    "# Run the NER processor on all of the text\n",
    "# YOUR CODE HERE!\n",
    "\n",
    "# Add a title to the document\n",
    "# YOUR CODE HERE!"
   ]
  },
  {
   "cell_type": "code",
   "execution_count": 33,
   "metadata": {},
   "outputs": [],
   "source": [
    "# Render the visualization\n",
    "# YOUR CODE HERE!"
   ]
  },
  {
   "cell_type": "code",
   "execution_count": 34,
   "metadata": {},
   "outputs": [],
   "source": [
    "# List all Entities\n",
    "# YOUR CODE HERE!"
   ]
  },
  {
   "cell_type": "markdown",
   "metadata": {},
   "source": [
    "---"
   ]
  }
 ],
 "metadata": {
  "file_extension": ".py",
  "kernelspec": {
   "display_name": "Python 3",
   "language": "python",
   "name": "python3"
  },
  "language_info": {
   "codemirror_mode": {
    "name": "ipython",
    "version": 3
   },
   "file_extension": ".py",
   "mimetype": "text/x-python",
   "name": "python",
   "nbconvert_exporter": "python",
   "pygments_lexer": "ipython3",
   "version": "3.8.5"
  },
  "mimetype": "text/x-python",
  "name": "python",
  "npconvert_exporter": "python",
  "pygments_lexer": "ipython3",
  "version": 3
 },
 "nbformat": 4,
 "nbformat_minor": 4
}
